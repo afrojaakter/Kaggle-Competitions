{
 "cells": [
  {
   "cell_type": "code",
   "execution_count": 1,
   "id": "unusual-yield",
   "metadata": {
    "execution": {
     "iopub.execute_input": "2021-08-25T14:38:50.428087Z",
     "iopub.status.busy": "2021-08-25T14:38:50.427411Z",
     "iopub.status.idle": "2021-08-25T14:38:52.155120Z",
     "shell.execute_reply": "2021-08-25T14:38:52.156202Z",
     "shell.execute_reply.started": "2021-08-25T14:31:16.100365Z"
    },
    "papermill": {
     "duration": 1.746237,
     "end_time": "2021-08-25T14:38:52.156544",
     "exception": false,
     "start_time": "2021-08-25T14:38:50.410307",
     "status": "completed"
    },
    "tags": []
   },
   "outputs": [],
   "source": [
    "import numpy as np\n",
    "import pandas as pd\n",
    "from sklearn.preprocessing import OrdinalEncoder\n",
    "from sklearn.model_selection import train_test_split\n",
    "from sklearn.ensemble import RandomForestRegressor\n",
    "from sklearn.metrics import mean_squared_error\n",
    "from xgboost import XGBRegressor\n",
    "from sklearn import preprocessing\n",
    "import optuna"
   ]
  },
  {
   "cell_type": "markdown",
   "id": "accessory-subject",
   "metadata": {
    "papermill": {
     "duration": 0.009466,
     "end_time": "2021-08-25T14:38:52.176669",
     "exception": false,
     "start_time": "2021-08-25T14:38:52.167203",
     "status": "completed"
    },
    "tags": []
   },
   "source": [
    "# Step 2: Load the data\n",
    "\n",
    "Next, we'll load the training and test data.  \n",
    "\n",
    "We set `index_col=0` in the code cell below to use the `id` column to index the DataFrame.  (*If you're not sure how this works, try temporarily removing `index_col=0` and see how it changes the result.*)"
   ]
  },
  {
   "cell_type": "code",
   "execution_count": 2,
   "id": "monthly-sequence",
   "metadata": {
    "execution": {
     "iopub.execute_input": "2021-08-25T14:38:52.206179Z",
     "iopub.status.busy": "2021-08-25T14:38:52.205414Z",
     "iopub.status.idle": "2021-08-25T14:38:55.143656Z",
     "shell.execute_reply": "2021-08-25T14:38:55.143221Z",
     "shell.execute_reply.started": "2021-08-25T14:31:18.155403Z"
    },
    "papermill": {
     "duration": 2.957368,
     "end_time": "2021-08-25T14:38:55.143799",
     "exception": false,
     "start_time": "2021-08-25T14:38:52.186431",
     "status": "completed"
    },
    "tags": []
   },
   "outputs": [
    {
     "data": {
      "text/html": [
       "<div>\n",
       "<style scoped>\n",
       "    .dataframe tbody tr th:only-of-type {\n",
       "        vertical-align: middle;\n",
       "    }\n",
       "\n",
       "    .dataframe tbody tr th {\n",
       "        vertical-align: top;\n",
       "    }\n",
       "\n",
       "    .dataframe thead th {\n",
       "        text-align: right;\n",
       "    }\n",
       "</style>\n",
       "<table border=\"1\" class=\"dataframe\">\n",
       "  <thead>\n",
       "    <tr style=\"text-align: right;\">\n",
       "      <th></th>\n",
       "      <th>id</th>\n",
       "      <th>cat0</th>\n",
       "      <th>cat1</th>\n",
       "      <th>cat2</th>\n",
       "      <th>cat3</th>\n",
       "      <th>cat4</th>\n",
       "      <th>cat5</th>\n",
       "      <th>cat6</th>\n",
       "      <th>cat7</th>\n",
       "      <th>cat8</th>\n",
       "      <th>...</th>\n",
       "      <th>cont6</th>\n",
       "      <th>cont7</th>\n",
       "      <th>cont8</th>\n",
       "      <th>cont9</th>\n",
       "      <th>cont10</th>\n",
       "      <th>cont11</th>\n",
       "      <th>cont12</th>\n",
       "      <th>cont13</th>\n",
       "      <th>target</th>\n",
       "      <th>kfold</th>\n",
       "    </tr>\n",
       "  </thead>\n",
       "  <tbody>\n",
       "    <tr>\n",
       "      <th>0</th>\n",
       "      <td>1</td>\n",
       "      <td>B</td>\n",
       "      <td>B</td>\n",
       "      <td>B</td>\n",
       "      <td>C</td>\n",
       "      <td>B</td>\n",
       "      <td>B</td>\n",
       "      <td>A</td>\n",
       "      <td>E</td>\n",
       "      <td>C</td>\n",
       "      <td>...</td>\n",
       "      <td>0.160266</td>\n",
       "      <td>0.310921</td>\n",
       "      <td>0.389470</td>\n",
       "      <td>0.267559</td>\n",
       "      <td>0.237281</td>\n",
       "      <td>0.377873</td>\n",
       "      <td>0.322401</td>\n",
       "      <td>0.869850</td>\n",
       "      <td>8.113634</td>\n",
       "      <td>1</td>\n",
       "    </tr>\n",
       "    <tr>\n",
       "      <th>1</th>\n",
       "      <td>2</td>\n",
       "      <td>B</td>\n",
       "      <td>B</td>\n",
       "      <td>A</td>\n",
       "      <td>A</td>\n",
       "      <td>B</td>\n",
       "      <td>D</td>\n",
       "      <td>A</td>\n",
       "      <td>F</td>\n",
       "      <td>A</td>\n",
       "      <td>...</td>\n",
       "      <td>0.558922</td>\n",
       "      <td>0.516294</td>\n",
       "      <td>0.594928</td>\n",
       "      <td>0.341439</td>\n",
       "      <td>0.906013</td>\n",
       "      <td>0.921701</td>\n",
       "      <td>0.261975</td>\n",
       "      <td>0.465083</td>\n",
       "      <td>8.481233</td>\n",
       "      <td>3</td>\n",
       "    </tr>\n",
       "    <tr>\n",
       "      <th>2</th>\n",
       "      <td>3</td>\n",
       "      <td>A</td>\n",
       "      <td>A</td>\n",
       "      <td>A</td>\n",
       "      <td>C</td>\n",
       "      <td>B</td>\n",
       "      <td>D</td>\n",
       "      <td>A</td>\n",
       "      <td>D</td>\n",
       "      <td>A</td>\n",
       "      <td>...</td>\n",
       "      <td>0.375348</td>\n",
       "      <td>0.902567</td>\n",
       "      <td>0.555205</td>\n",
       "      <td>0.843531</td>\n",
       "      <td>0.748809</td>\n",
       "      <td>0.620126</td>\n",
       "      <td>0.541474</td>\n",
       "      <td>0.763846</td>\n",
       "      <td>8.364351</td>\n",
       "      <td>1</td>\n",
       "    </tr>\n",
       "    <tr>\n",
       "      <th>3</th>\n",
       "      <td>4</td>\n",
       "      <td>B</td>\n",
       "      <td>B</td>\n",
       "      <td>A</td>\n",
       "      <td>C</td>\n",
       "      <td>B</td>\n",
       "      <td>D</td>\n",
       "      <td>A</td>\n",
       "      <td>E</td>\n",
       "      <td>C</td>\n",
       "      <td>...</td>\n",
       "      <td>0.239061</td>\n",
       "      <td>0.732948</td>\n",
       "      <td>0.679618</td>\n",
       "      <td>0.574844</td>\n",
       "      <td>0.346010</td>\n",
       "      <td>0.714610</td>\n",
       "      <td>0.540150</td>\n",
       "      <td>0.280682</td>\n",
       "      <td>8.049253</td>\n",
       "      <td>3</td>\n",
       "    </tr>\n",
       "    <tr>\n",
       "      <th>4</th>\n",
       "      <td>6</td>\n",
       "      <td>A</td>\n",
       "      <td>A</td>\n",
       "      <td>A</td>\n",
       "      <td>C</td>\n",
       "      <td>B</td>\n",
       "      <td>D</td>\n",
       "      <td>A</td>\n",
       "      <td>E</td>\n",
       "      <td>A</td>\n",
       "      <td>...</td>\n",
       "      <td>0.420667</td>\n",
       "      <td>0.648182</td>\n",
       "      <td>0.684501</td>\n",
       "      <td>0.956692</td>\n",
       "      <td>1.000773</td>\n",
       "      <td>0.776742</td>\n",
       "      <td>0.625849</td>\n",
       "      <td>0.250823</td>\n",
       "      <td>7.972260</td>\n",
       "      <td>4</td>\n",
       "    </tr>\n",
       "  </tbody>\n",
       "</table>\n",
       "<p>5 rows × 27 columns</p>\n",
       "</div>"
      ],
      "text/plain": [
       "   id cat0 cat1 cat2 cat3 cat4 cat5 cat6 cat7 cat8  ...     cont6     cont7  \\\n",
       "0   1    B    B    B    C    B    B    A    E    C  ...  0.160266  0.310921   \n",
       "1   2    B    B    A    A    B    D    A    F    A  ...  0.558922  0.516294   \n",
       "2   3    A    A    A    C    B    D    A    D    A  ...  0.375348  0.902567   \n",
       "3   4    B    B    A    C    B    D    A    E    C  ...  0.239061  0.732948   \n",
       "4   6    A    A    A    C    B    D    A    E    A  ...  0.420667  0.648182   \n",
       "\n",
       "      cont8     cont9    cont10    cont11    cont12    cont13    target  kfold  \n",
       "0  0.389470  0.267559  0.237281  0.377873  0.322401  0.869850  8.113634      1  \n",
       "1  0.594928  0.341439  0.906013  0.921701  0.261975  0.465083  8.481233      3  \n",
       "2  0.555205  0.843531  0.748809  0.620126  0.541474  0.763846  8.364351      1  \n",
       "3  0.679618  0.574844  0.346010  0.714610  0.540150  0.280682  8.049253      3  \n",
       "4  0.684501  0.956692  1.000773  0.776742  0.625849  0.250823  7.972260      4  \n",
       "\n",
       "[5 rows x 27 columns]"
      ]
     },
     "execution_count": 2,
     "metadata": {},
     "output_type": "execute_result"
    }
   ],
   "source": [
    "# Load the training data\n",
    "train = pd.read_csv(\"../input/train-kfolds/train-folds.csv\")\n",
    "test = pd.read_csv(\"../input/30-days-of-ml/test.csv\")\n",
    "submission_data = pd.read_csv(\"../input/30-days-of-ml/sample_submission.csv\")\n",
    "# Preview the data\n",
    "train.head()"
   ]
  },
  {
   "cell_type": "code",
   "execution_count": 3,
   "id": "enormous-validity",
   "metadata": {
    "execution": {
     "iopub.execute_input": "2021-08-25T14:38:55.206233Z",
     "iopub.status.busy": "2021-08-25T14:38:55.186184Z",
     "iopub.status.idle": "2021-08-25T14:38:56.628195Z",
     "shell.execute_reply": "2021-08-25T14:38:56.627633Z",
     "shell.execute_reply.started": "2021-08-25T14:31:20.930081Z"
    },
    "papermill": {
     "duration": 1.477252,
     "end_time": "2021-08-25T14:38:56.628368",
     "exception": false,
     "start_time": "2021-08-25T14:38:55.151116",
     "status": "completed"
    },
    "tags": []
   },
   "outputs": [],
   "source": [
    "# Separate target from features\n",
    "features = [col for col in train.columns if col not in ('id', 'target', 'kfold')]\n",
    "object_cols = [col for col in features if 'cat' in col]\n",
    "\n",
    "ordinal_encoder = OrdinalEncoder()\n",
    "\n",
    "xtest = test[features]\n",
    "xtest = xtest.copy()\n",
    "xtest[object_cols] = ordinal_encoder.fit_transform(xtest[object_cols])"
   ]
  },
  {
   "cell_type": "code",
   "execution_count": 4,
   "id": "corrected-perspective",
   "metadata": {
    "execution": {
     "iopub.execute_input": "2021-08-25T14:38:56.649444Z",
     "iopub.status.busy": "2021-08-25T14:38:56.648875Z",
     "iopub.status.idle": "2021-08-25T14:38:56.652152Z",
     "shell.execute_reply": "2021-08-25T14:38:56.652560Z",
     "shell.execute_reply.started": "2021-08-25T06:03:56.781728Z"
    },
    "papermill": {
     "duration": 0.016493,
     "end_time": "2021-08-25T14:38:56.652679",
     "exception": false,
     "start_time": "2021-08-25T14:38:56.636186",
     "status": "completed"
    },
    "tags": []
   },
   "outputs": [
    {
     "data": {
      "text/plain": [
       "'def run(trial):\\n    #optimize in one fold\\n    fold = 0\\n    xtrain = train[train.kfold != fold].reset_index(drop=True)\\n    xvalid = train[train.kfold == fold].reset_index(drop=True)\\n\\n    ytrain = xtrain.target\\n    yvalid = xvalid.target\\n\\n    xtrain = xtrain[features]\\n    xvalid = xvalid[features]\\n\\n    xtrain[object_cols]= ordinal_encoder.fit_transform(xtrain[object_cols])\\n    xvalid[object_cols] = ordinal_encoder.fit_transform(xvalid[object_cols])\\n\\n    learning_rate = trial.suggest_float(\"learning_rate\", 1e-2, 0.8, log=True)\\n    colsample_bytree = trial.suggest_float(\\'colsample_bytree\\', 0.1, 0.6)\\n    max_depth = trial.suggest_int(\\'max_depth\\', 1, 9)\\n    subsample = trial.suggest_float(\\'subsample\\', 0.1, 0.6)\\n    reg_lambda = trial.suggest_float(\\'reg_lambda\\', 1e-5, 100.0)\\n    reg_alpha = trial.suggest_float(\\'reg_alpha\\', 1e-5, 100.0)\\n    alpha = trial.suggest_int(\\'alpha\\', 0, 100)\\n\\n    model = XGBRegressor(random_state = 0, \\n                         alpha=alpha,\\n                         n_estimators=200, \\n                         tree_method=\\'gpu_hist\\',\\n                         gpu_id=0, predictor=\\'gpu_predictor\\',\\n                         learning_rate = learning_rate,\\n                         colsample_bytree = colsample_bytree,\\n                         max_depth = max_depth,\\n                         subsample = subsample,\\n                         reg_lambda = reg_lambda,\\n                         reg_alpha = reg_alpha)\\n\\n    model.fit(xtrain, ytrain)\\n    preds_valid = model.predict(xvalid)\\n    rmse = mean_squared_error(yvalid, preds_valid, squared=False)\\n    return rmse\\n\\nstudy = optuna.create_study(direction=\"minimize\")\\nstudy.optimize(run, n_trials=5000)\\n'"
      ]
     },
     "execution_count": 4,
     "metadata": {},
     "output_type": "execute_result"
    }
   ],
   "source": [
    "'''def run(trial):\n",
    "    #optimize in one fold\n",
    "    fold = 0\n",
    "    xtrain = train[train.kfold != fold].reset_index(drop=True)\n",
    "    xvalid = train[train.kfold == fold].reset_index(drop=True)\n",
    "\n",
    "    ytrain = xtrain.target\n",
    "    yvalid = xvalid.target\n",
    "\n",
    "    xtrain = xtrain[features]\n",
    "    xvalid = xvalid[features]\n",
    "\n",
    "    xtrain[object_cols]= ordinal_encoder.fit_transform(xtrain[object_cols])\n",
    "    xvalid[object_cols] = ordinal_encoder.fit_transform(xvalid[object_cols])\n",
    "\n",
    "    learning_rate = trial.suggest_float(\"learning_rate\", 1e-2, 0.8, log=True)\n",
    "    colsample_bytree = trial.suggest_float('colsample_bytree', 0.1, 0.6)\n",
    "    max_depth = trial.suggest_int('max_depth', 1, 9)\n",
    "    subsample = trial.suggest_float('subsample', 0.1, 0.6)\n",
    "    reg_lambda = trial.suggest_float('reg_lambda', 1e-5, 100.0)\n",
    "    reg_alpha = trial.suggest_float('reg_alpha', 1e-5, 100.0)\n",
    "    alpha = trial.suggest_int('alpha', 0, 100)\n",
    "\n",
    "    model = XGBRegressor(random_state = 0, \n",
    "                         alpha=alpha,\n",
    "                         n_estimators=200, \n",
    "                         tree_method='gpu_hist',\n",
    "                         gpu_id=0, predictor='gpu_predictor',\n",
    "                         learning_rate = learning_rate,\n",
    "                         colsample_bytree = colsample_bytree,\n",
    "                         max_depth = max_depth,\n",
    "                         subsample = subsample,\n",
    "                         reg_lambda = reg_lambda,\n",
    "                         reg_alpha = reg_alpha)\n",
    "\n",
    "    model.fit(xtrain, ytrain)\n",
    "    preds_valid = model.predict(xvalid)\n",
    "    rmse = mean_squared_error(yvalid, preds_valid, squared=False)\n",
    "    return rmse\n",
    "\n",
    "study = optuna.create_study(direction=\"minimize\")\n",
    "study.optimize(run, n_trials=5000)\n",
    "'''"
   ]
  },
  {
   "cell_type": "code",
   "execution_count": null,
   "id": "fifty-edwards",
   "metadata": {
    "execution": {
     "iopub.execute_input": "2021-08-25T06:04:33.811739Z",
     "iopub.status.busy": "2021-08-25T06:04:33.811412Z",
     "iopub.status.idle": "2021-08-25T06:05:05.194515Z",
     "shell.execute_reply": "2021-08-25T06:05:05.193696Z",
     "shell.execute_reply.started": "2021-08-25T06:04:33.811708Z"
    },
    "papermill": {
     "duration": 0.006866,
     "end_time": "2021-08-25T14:38:56.666515",
     "exception": false,
     "start_time": "2021-08-25T14:38:56.659649",
     "status": "completed"
    },
    "tags": []
   },
   "outputs": [],
   "source": []
  },
  {
   "cell_type": "code",
   "execution_count": 5,
   "id": "powerful-tablet",
   "metadata": {
    "execution": {
     "iopub.execute_input": "2021-08-25T14:38:56.683482Z",
     "iopub.status.busy": "2021-08-25T14:38:56.682989Z",
     "iopub.status.idle": "2021-08-25T14:38:56.686840Z",
     "shell.execute_reply": "2021-08-25T14:38:56.686413Z",
     "shell.execute_reply.started": "2021-08-25T06:05:48.560281Z"
    },
    "papermill": {
     "duration": 0.013448,
     "end_time": "2021-08-25T14:38:56.686944",
     "exception": false,
     "start_time": "2021-08-25T14:38:56.673496",
     "status": "completed"
    },
    "tags": []
   },
   "outputs": [],
   "source": [
    "#study.best_params"
   ]
  },
  {
   "cell_type": "code",
   "execution_count": 6,
   "id": "powerful-borough",
   "metadata": {
    "execution": {
     "iopub.execute_input": "2021-08-25T14:38:56.710172Z",
     "iopub.status.busy": "2021-08-25T14:38:56.708309Z",
     "iopub.status.idle": "2021-08-25T14:41:28.238977Z",
     "shell.execute_reply": "2021-08-25T14:41:28.239417Z",
     "shell.execute_reply.started": "2021-08-25T14:31:34.651745Z"
    },
    "papermill": {
     "duration": 151.545664,
     "end_time": "2021-08-25T14:41:28.239597",
     "exception": false,
     "start_time": "2021-08-25T14:38:56.693933",
     "status": "completed"
    },
    "tags": []
   },
   "outputs": [
    {
     "name": "stdout",
     "output_type": "stream",
     "text": [
      "[14:38:59] WARNING: ../src/objective/regression_obj.cu:171: reg:linear is now deprecated in favor of reg:squarederror.\n"
     ]
    },
    {
     "name": "stderr",
     "output_type": "stream",
     "text": [
      "/opt/conda/lib/python3.7/site-packages/xgboost/data.py:114: UserWarning: Use subset (sliced data) of np.ndarray is not recommended because it will generate extra copies and increase memory consumption\n",
      "  \"because it will generate extra copies and increase \" +\n",
      "/opt/conda/lib/python3.7/site-packages/xgboost/data.py:114: UserWarning: Use subset (sliced data) of np.ndarray is not recommended because it will generate extra copies and increase memory consumption\n",
      "  \"because it will generate extra copies and increase \" +\n"
     ]
    },
    {
     "name": "stdout",
     "output_type": "stream",
     "text": [
      "0 0.7193955701643651\n",
      "[14:39:29] WARNING: ../src/objective/regression_obj.cu:171: reg:linear is now deprecated in favor of reg:squarederror.\n"
     ]
    },
    {
     "name": "stderr",
     "output_type": "stream",
     "text": [
      "/opt/conda/lib/python3.7/site-packages/xgboost/data.py:114: UserWarning: Use subset (sliced data) of np.ndarray is not recommended because it will generate extra copies and increase memory consumption\n",
      "  \"because it will generate extra copies and increase \" +\n"
     ]
    },
    {
     "name": "stdout",
     "output_type": "stream",
     "text": [
      "1 0.716597414342513\n",
      "[14:39:59] WARNING: ../src/objective/regression_obj.cu:171: reg:linear is now deprecated in favor of reg:squarederror.\n"
     ]
    },
    {
     "name": "stderr",
     "output_type": "stream",
     "text": [
      "/opt/conda/lib/python3.7/site-packages/xgboost/data.py:114: UserWarning: Use subset (sliced data) of np.ndarray is not recommended because it will generate extra copies and increase memory consumption\n",
      "  \"because it will generate extra copies and increase \" +\n"
     ]
    },
    {
     "name": "stdout",
     "output_type": "stream",
     "text": [
      "2 0.7214180451512023\n",
      "[14:40:28] WARNING: ../src/objective/regression_obj.cu:171: reg:linear is now deprecated in favor of reg:squarederror.\n"
     ]
    },
    {
     "name": "stderr",
     "output_type": "stream",
     "text": [
      "/opt/conda/lib/python3.7/site-packages/xgboost/data.py:114: UserWarning: Use subset (sliced data) of np.ndarray is not recommended because it will generate extra copies and increase memory consumption\n",
      "  \"because it will generate extra copies and increase \" +\n"
     ]
    },
    {
     "name": "stdout",
     "output_type": "stream",
     "text": [
      "3 0.7149565582076789\n",
      "[14:40:59] WARNING: ../src/objective/regression_obj.cu:171: reg:linear is now deprecated in favor of reg:squarederror.\n"
     ]
    },
    {
     "name": "stderr",
     "output_type": "stream",
     "text": [
      "/opt/conda/lib/python3.7/site-packages/xgboost/data.py:114: UserWarning: Use subset (sliced data) of np.ndarray is not recommended because it will generate extra copies and increase memory consumption\n",
      "  \"because it will generate extra copies and increase \" +\n"
     ]
    },
    {
     "name": "stdout",
     "output_type": "stream",
     "text": [
      "4 0.7157135763204374\n"
     ]
    }
   ],
   "source": [
    "final_preds = []\n",
    "for fold in range(5):\n",
    "    xtrain = train[train.kfold != fold].reset_index(drop=True)\n",
    "    xvalid = train[train.kfold == fold].reset_index(drop=True)\n",
    "    \n",
    "    ytrain = xtrain.target\n",
    "    yvalid = xvalid.target\n",
    "    \n",
    "    xtrain = xtrain[features]\n",
    "    xvalid = xvalid[features]\n",
    "    \n",
    "    xtrain[object_cols]= ordinal_encoder.fit_transform(xtrain[object_cols])\n",
    "    xvalid[object_cols] = ordinal_encoder.fit_transform(xvalid[object_cols])\n",
    "    \n",
    "    best_params = {'learning_rate': 0.34090767065203226,\n",
    "                     'colsample_bytree': 0.12289350813119115,\n",
    "                     'max_depth': 7,\n",
    "                     'subsample': 0.5899332396539119,\n",
    "                     'reg_lambda': 5.830490094721956,\n",
    "                     'reg_alpha': 49.68136144185203,\n",
    "                     'alpha': 30\n",
    "                  }\n",
    "    model = XGBRegressor(objective='reg:linear',colsample_bytree= 0.12289350813119115,\n",
    "                         learning_rate=0.34090767065203226,max_depth=7, alpha=30,\n",
    "                         n_estimators=200, \n",
    "                         reg_lambda=5.830490094721956,\n",
    "                         reg_alpha=49.68136144185203,\n",
    "                         #tree_method='gpu_hist',\n",
    "                         #gpu_id=0, \n",
    "                         #predictor='gpu_predictor'\n",
    "                        )\n",
    "\n",
    "    model.fit(xtrain, ytrain)\n",
    "    preds_valid = model.predict(xvalid)\n",
    "    test_preds = model.predict(xtest)\n",
    "    final_preds.append(test_preds)\n",
    "    print(fold, mean_squared_error(yvalid, preds_valid, squared=False))\n",
    "\n",
    "preds = np.mean(np.column_stack(final_preds), axis = 1)   \n",
    "# Save predictions to a CSV file\n",
    "submission_data.target = preds\n",
    "submission_data.to_csv('submission.csv', index=False)"
   ]
  }
 ],
 "metadata": {
  "kernelspec": {
   "display_name": "Python 3",
   "language": "python",
   "name": "python3"
  },
  "language_info": {
   "codemirror_mode": {
    "name": "ipython",
    "version": 3
   },
   "file_extension": ".py",
   "mimetype": "text/x-python",
   "name": "python",
   "nbconvert_exporter": "python",
   "pygments_lexer": "ipython3",
   "version": "3.7.10"
  },
  "papermill": {
   "default_parameters": {},
   "duration": 165.586698,
   "end_time": "2021-08-25T14:41:29.261072",
   "environment_variables": {},
   "exception": null,
   "input_path": "__notebook__.ipynb",
   "output_path": "__notebook__.ipynb",
   "parameters": {},
   "start_time": "2021-08-25T14:38:43.674374",
   "version": "2.3.3"
  }
 },
 "nbformat": 4,
 "nbformat_minor": 5
}
